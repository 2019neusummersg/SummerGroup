{
 "cells": [
  {
   "cell_type": "markdown",
   "metadata": {},
   "source": [
    "# Reverse"
   ]
  },
  {
   "cell_type": "markdown",
   "metadata": {},
   "source": [
    "## The target is to write a code that can reverse any numbers that we input. \n",
    "- For example: input:123 output:321\n",
    "- Assumption: the storage memory is smaller than 32 bit. (The input value should be between 2<sup>31</sup> and 2<sup>-31</sup> -1)\n",
    "- Also. if we input numbers that are out of range, it should return 0"
   ]
  },
  {
   "cell_type": "markdown",
   "metadata": {},
   "source": [
    "### Method 1"
   ]
  },
  {
   "cell_type": "code",
   "execution_count": 29,
   "metadata": {},
   "outputs": [],
   "source": [
    "def reverse(x):\n",
    "    if x <= (2**31-1)  or x >= (-1*(2**(31))): #Determine numbers that are in the range\n",
    "            if x >= 0: #In my setting, positive and negative needs to be dealt differently\n",
    "                y = str(x) #First, I tranform the input numbers into a string which can be split easily\n",
    "                y2= str() #Then, using a for loop to reform the string backward\n",
    "                for l in range(0,len(y)):\n",
    "                     y2=y[l]+y2 #Since we want a reverse form, we need to add it in the front of the new string\n",
    "                y2=int(y2)\n",
    "            else:\n",
    "                y=str(x*(-1)) #For negative numbers, tranform than into positive first, then add the '-' back\n",
    "                y2= str()\n",
    "                for l in range(0,len(y)):\n",
    "                    y2=y[l]+y2\n",
    "                y2=(-1)*int(y2)\n",
    "            if y2 > (2**31-1)  or y2 < (-1*(2**(31))): # Since the storage space is 32 bit, if the output out ranged, it should output 0\n",
    "                return 0\n",
    "            else:\n",
    "                return y2   \n",
    "    else: \n",
    "            return 0"
   ]
  },
  {
   "cell_type": "code",
   "execution_count": 35,
   "metadata": {},
   "outputs": [
    {
     "data": {
      "text/plain": [
       "423"
      ]
     },
     "execution_count": 35,
     "metadata": {},
     "output_type": "execute_result"
    }
   ],
   "source": [
    "reverse(324)"
   ]
  },
  {
   "cell_type": "code",
   "execution_count": 3,
   "metadata": {},
   "outputs": [
    {
     "data": {
      "text/plain": [
       "-457789"
      ]
     },
     "execution_count": 3,
     "metadata": {},
     "output_type": "execute_result"
    }
   ],
   "source": [
    "reverse(-987754)"
   ]
  },
  {
   "cell_type": "markdown",
   "metadata": {},
   "source": [
    "- 2<sup>31</sup> equals to 2147483648"
   ]
  },
  {
   "cell_type": "code",
   "execution_count": 4,
   "metadata": {},
   "outputs": [
    {
     "data": {
      "text/plain": [
       "0"
      ]
     },
     "execution_count": 4,
     "metadata": {},
     "output_type": "execute_result"
    }
   ],
   "source": [
    "reverse(2147483649)"
   ]
  },
  {
   "cell_type": "code",
   "execution_count": 5,
   "metadata": {},
   "outputs": [
    {
     "data": {
      "text/plain": [
       "0"
      ]
     },
     "execution_count": 5,
     "metadata": {},
     "output_type": "execute_result"
    }
   ],
   "source": [
    "reverse(1111111113)"
   ]
  },
  {
   "cell_type": "code",
   "execution_count": 6,
   "metadata": {},
   "outputs": [
    {
     "name": "stdout",
     "output_type": "stream",
     "text": [
      "1\n"
     ]
    }
   ],
   "source": [
    "bug =-9825361800 ##bug number\n",
    "if x >= (-1*(2**31)) or x <= ((2**31)-1):\n",
    "    print(1)"
   ]
  },
  {
   "cell_type": "markdown",
   "metadata": {},
   "source": [
    "### Method 2"
   ]
  },
  {
   "cell_type": "code",
   "execution_count": 31,
   "metadata": {},
   "outputs": [],
   "source": [
    "def reverse2(x):\n",
    "    if x <= (2**31-1)  or x >= (-1*(2**(31))): #Determine numbers that are in the range\n",
    "        if x >= 0:\n",
    "            y=x\n",
    "            result=str()\n",
    "            while len(str(y)) > 1:\n",
    "                r=str(y%10)\n",
    "                result=result+r\n",
    "                if (len(str(y))-len(str(y//10)))!=1:\n",
    "                    count=len(str(y))-len(str(y))\n",
    "                    while count >1:\n",
    "                        result=result+'0'\n",
    "                y=y//10\n",
    "            result=int(result+str(y))\n",
    "        else:\n",
    "            y=x*(-1)\n",
    "            result=str()\n",
    "            while len(str(y)) > 1:\n",
    "                r=str(y%10)\n",
    "                result=result+r\n",
    "                if (len(str(y))-len(str(y//10)))!=1:\n",
    "                    count=len(str(y))-len(str(y))\n",
    "                    while count >1:\n",
    "                        result=result+'0'\n",
    "                y=y//10\n",
    "            result=-1*int(result+str(y))\n",
    "       \n",
    "        if result > (2**31-1)  or result < (-1*(2**(31))): \n",
    "                return 0\n",
    "        else:\n",
    "                return result   \n",
    "    else: \n",
    "            return 0"
   ]
  },
  {
   "cell_type": "code",
   "execution_count": 26,
   "metadata": {},
   "outputs": [
    {
     "data": {
      "text/plain": [
       "123"
      ]
     },
     "execution_count": 26,
     "metadata": {},
     "output_type": "execute_result"
    }
   ],
   "source": [
    "reverse2(321)"
   ]
  },
  {
   "cell_type": "code",
   "execution_count": 36,
   "metadata": {},
   "outputs": [
    {
     "data": {
      "text/plain": [
       "1756"
      ]
     },
     "execution_count": 36,
     "metadata": {},
     "output_type": "execute_result"
    }
   ],
   "source": [
    "reverse2(6571)"
   ]
  },
  {
   "cell_type": "code",
   "execution_count": 34,
   "metadata": {},
   "outputs": [
    {
     "data": {
      "text/plain": [
       "-10013"
      ]
     },
     "execution_count": 34,
     "metadata": {},
     "output_type": "execute_result"
    }
   ],
   "source": [
    "reverse2(-31001)"
   ]
  }
 ],
 "metadata": {
  "kernelspec": {
   "display_name": "py35",
   "language": "python",
   "name": "py35"
  },
  "language_info": {
   "codemirror_mode": {
    "name": "ipython",
    "version": 3
   },
   "file_extension": ".py",
   "mimetype": "text/x-python",
   "name": "python",
   "nbconvert_exporter": "python",
   "pygments_lexer": "ipython3",
   "version": "3.6.7"
  }
 },
 "nbformat": 4,
 "nbformat_minor": 2
}
