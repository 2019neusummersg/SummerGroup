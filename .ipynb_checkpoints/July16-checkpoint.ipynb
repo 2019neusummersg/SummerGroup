{
 "cells": [
  {
   "cell_type": "markdown",
   "metadata": {},
   "source": [
    "# Count and Say"
   ]
  },
  {
   "cell_type": "code",
   "execution_count": 2,
   "metadata": {},
   "outputs": [],
   "source": [
    "def adding (x):\n",
    "    tr= str(x)\n",
    "    n=tr[0]\n",
    "    count=0\n",
    "    result=str()\n",
    "    for i in range(0,len(tr)):\n",
    "        if tr[i]==n:\n",
    "            s=tr[count:(i+1)]\n",
    "            temp=str(s.count(n))+n\n",
    "        else:\n",
    "            result=result+temp\n",
    "            n=tr[i]\n",
    "            count=i\n",
    "            temp='1'+n\n",
    "    result=result+temp\n",
    "    return(result)"
   ]
  },
  {
   "cell_type": "code",
   "execution_count": 3,
   "metadata": {},
   "outputs": [
    {
     "data": {
      "text/plain": [
       "'15181913'"
      ]
     },
     "execution_count": 3,
     "metadata": {},
     "output_type": "execute_result"
    }
   ],
   "source": [
    "adding(5893)"
   ]
  },
  {
   "cell_type": "code",
   "execution_count": 4,
   "metadata": {},
   "outputs": [],
   "source": [
    "def countAndSay(x):\n",
    "    i=2\n",
    "    d={1:'1'}\n",
    "    start=1\n",
    "    while i<=x:\n",
    "        d[i]=adding(start)\n",
    "        start=int(d[i])\n",
    "        i+=1\n",
    "    return(d[x])"
   ]
  },
  {
   "cell_type": "code",
   "execution_count": 6,
   "metadata": {},
   "outputs": [
    {
     "data": {
      "text/plain": [
       "'1113213211'"
      ]
     },
     "execution_count": 6,
     "metadata": {},
     "output_type": "execute_result"
    }
   ],
   "source": [
    "countAndSay(8)"
   ]
  }
 ],
 "metadata": {
  "kernelspec": {
   "display_name": "py35",
   "language": "python",
   "name": "py35"
  },
  "language_info": {
   "codemirror_mode": {
    "name": "ipython",
    "version": 3
   },
   "file_extension": ".py",
   "mimetype": "text/x-python",
   "name": "python",
   "nbconvert_exporter": "python",
   "pygments_lexer": "ipython3",
   "version": "3.6.7"
  }
 },
 "nbformat": 4,
 "nbformat_minor": 2
}
