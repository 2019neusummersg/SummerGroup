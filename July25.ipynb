{
 "cells": [
  {
   "cell_type": "markdown",
   "metadata": {},
   "source": [
    "# Excel title to Number"
   ]
  },
  {
   "cell_type": "code",
   "execution_count": 93,
   "metadata": {},
   "outputs": [],
   "source": [
    "def titleToNumber (s):\n",
    "    tem = list()\n",
    "    result=0\n",
    "    for i in range(0,len(s)):\n",
    "        tem.append(ord(s[i])-64)\n",
    "    t=len(s)-1\n",
    "    c=0\n",
    "    while t >= 0:\n",
    "        n= tem[c]*(26**t)\n",
    "        result += n\n",
    "        t -=1\n",
    "        c +=1\n",
    "    return(result)"
   ]
  },
  {
   "cell_type": "code",
   "execution_count": 96,
   "metadata": {},
   "outputs": [
    {
     "data": {
      "text/plain": [
       "677"
      ]
     },
     "execution_count": 96,
     "metadata": {},
     "output_type": "execute_result"
    }
   ],
   "source": [
    "titleToNumber('ZA')"
   ]
  },
  {
   "cell_type": "markdown",
   "metadata": {},
   "source": [
    "# Climbing Stair\n",
    "- First, when n is under 2, the method will be just 0,1,2.\n",
    "- Then, when it reach 3, it becomes the sum of all previous method:\n",
    " - For example: the method of 3 steps, could be calculated from 2 steps and 1 step, which is 1+2 =3\n",
    "- In other words, this is a transformation of Fibonacci. (1,1,2,3,5,8....)"
   ]
  },
  {
   "cell_type": "code",
   "execution_count": 117,
   "metadata": {},
   "outputs": [],
   "source": [
    "def climbStairs(n):\n",
    "    if n==0:\n",
    "        return(0)\n",
    "    if n==1:\n",
    "        return(1)\n",
    "    if n==2:\n",
    "        return(2)\n",
    "    init =2\n",
    "    sec  =1 \n",
    "    aftert = 2 # since the counting start from n>2, so the method initials starts from 2\n",
    "    result=0\n",
    "    while aftert <n:\n",
    "        result=init+sec\n",
    "        sec=init\n",
    "        init=result\n",
    "        aftert +=1\n",
    "    return(result)"
   ]
  },
  {
   "cell_type": "code",
   "execution_count": 118,
   "metadata": {},
   "outputs": [
    {
     "data": {
      "text/plain": [
       "5"
      ]
     },
     "execution_count": 118,
     "metadata": {},
     "output_type": "execute_result"
    }
   ],
   "source": [
    "climbStairs(4)"
   ]
  },
  {
   "cell_type": "code",
   "execution_count": 119,
   "metadata": {},
   "outputs": [
    {
     "data": {
      "text/plain": [
       "8"
      ]
     },
     "execution_count": 119,
     "metadata": {},
     "output_type": "execute_result"
    }
   ],
   "source": [
    "climbStairs(5)"
   ]
  },
  {
   "cell_type": "code",
   "execution_count": null,
   "metadata": {},
   "outputs": [],
   "source": []
  }
 ],
 "metadata": {
  "kernelspec": {
   "display_name": "py35",
   "language": "python",
   "name": "py35"
  },
  "language_info": {
   "codemirror_mode": {
    "name": "ipython",
    "version": 3
   },
   "file_extension": ".py",
   "mimetype": "text/x-python",
   "name": "python",
   "nbconvert_exporter": "python",
   "pygments_lexer": "ipython3",
   "version": "3.6.7"
  }
 },
 "nbformat": 4,
 "nbformat_minor": 2
}
